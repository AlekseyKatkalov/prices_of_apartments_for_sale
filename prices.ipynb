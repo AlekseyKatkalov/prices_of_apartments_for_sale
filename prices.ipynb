{
 "cells": [
  {
   "cell_type": "markdown",
   "metadata": {},
   "source": [
    "### 1. Загрузка данных"
   ]
  },
  {
   "cell_type": "code",
   "execution_count": 1,
   "metadata": {},
   "outputs": [
    {
     "name": "stdout",
     "output_type": "stream",
     "text": [
      "Collecting geopandas\n",
      "  Using cached geopandas-0.10.2-py2.py3-none-any.whl (1.0 MB)\n",
      "Requirement already satisfied: shapely>=1.6 in c:\\programdata\\anaconda3\\lib\\site-packages (from geopandas) (1.8.1.post1)\n",
      "Collecting pyproj>=2.2.0\n",
      "  Using cached pyproj-3.3.1-cp38-cp38-win_amd64.whl (6.4 MB)\n",
      "Collecting fiona>=1.8\n",
      "  Using cached Fiona-1.8.21.tar.gz (1.0 MB)\n",
      "  Preparing metadata (setup.py): started\n",
      "  Preparing metadata (setup.py): finished with status 'error'\n"
     ]
    },
    {
     "name": "stderr",
     "output_type": "stream",
     "text": [
      "WARNING: Ignoring invalid distribution -rllib3 (c:\\programdata\\anaconda3\\lib\\site-packages)\n",
      "WARNING: Ignoring invalid distribution -rllib3 (c:\\programdata\\anaconda3\\lib\\site-packages)\n",
      "  error: subprocess-exited-with-error\n",
      "  \n",
      "  python setup.py egg_info did not run successfully.\n",
      "  exit code: 1\n",
      "  \n",
      "  [1 lines of output]\n",
      "  A GDAL API version must be specified. Provide a path to gdal-config using a GDAL_CONFIG environment variable or use a GDAL_VERSION environment variable.\n",
      "  [end of output]\n",
      "  \n",
      "  note: This error originates from a subprocess, and is likely not a problem with pip.\n",
      "error: metadata-generation-failed\n",
      "\n",
      "Encountered error while generating package metadata.\n",
      "\n",
      "See above for output.\n",
      "\n",
      "note: This is an issue with the package mentioned above, not pip.\n",
      "hint: See above for details.\n",
      "WARNING: Ignoring invalid distribution -rllib3 (c:\\programdata\\anaconda3\\lib\\site-packages)\n",
      "WARNING: Ignoring invalid distribution -rllib3 (c:\\programdata\\anaconda3\\lib\\site-packages)\n"
     ]
    }
   ],
   "source": [
    "!pip install geopandas"
   ]
  },
  {
   "cell_type": "code",
   "execution_count": 3,
   "metadata": {},
   "outputs": [],
   "source": [
    "import pandas as pd\n",
    "import numpy as np\n",
    "from zipfile import ZipFile\n",
    "import fnmatch\n",
    "from tqdm.notebook import tqdm\n",
    "from rosreestr2coord import Area #https://github.com/rendrom/rosreestr2coord\n",
    "import folium\n",
    "from shapely.geometry import Polygon"
   ]
  },
  {
   "cell_type": "code",
   "execution_count": 4,
   "metadata": {},
   "outputs": [],
   "source": [
    "pd.set_option('display.max_columns', 25)\n",
    "#pd.reset_option(\"display.max_columns\")"
   ]
  },
  {
   "cell_type": "code",
   "execution_count": 5,
   "metadata": {},
   "outputs": [],
   "source": [
    "pd.set_option(\"max_colwidth\", 400)"
   ]
  },
  {
   "cell_type": "markdown",
   "metadata": {},
   "source": [
    "Заходи на сайт Федеральной службы государственной регистрации, кадастра и картографии и в разделе \"Открытая служба\" скачиваем дата-сет \"Данные о кадастровой стоимости объектов недвижимости в разрезе территориальной принадлежности\" для Свердловской области. https://rosreestr.gov.ru/open-service/data-sety-rosreestra/dannye-o-kadastrovoy-stoimosti-obektov-nedvizhimosti-v-razreze-territorialnoy-prinadlezhnosti/"
   ]
  },
  {
   "cell_type": "markdown",
   "metadata": {},
   "source": [
    "Так как архив состоит из множества json файлов, поэтому в цикле соберем их в один датафрейм, но на итеррациях будем отбирать данные только по Екатеринбургу"
   ]
  },
  {
   "cell_type": "code",
   "execution_count": 6,
   "metadata": {},
   "outputs": [],
   "source": [
    "path = 'D:\\\\4. Программы\\\\price_66\\\\export-json-region-66-date-1639121273.zip'"
   ]
  },
  {
   "cell_type": "code",
   "execution_count": 7,
   "metadata": {
    "scrolled": true
   },
   "outputs": [
    {
     "data": {
      "application/vnd.jupyter.widget-view+json": {
       "model_id": "",
       "version_major": 2,
       "version_minor": 0
      },
      "text/plain": [
       "HBox(children=(HTML(value=''), FloatProgress(value=0.0, max=28.0), HTML(value='')))"
      ]
     },
     "metadata": {},
     "output_type": "display_data"
    },
    {
     "name": "stdout",
     "output_type": "stream",
     "text": [
      "\n"
     ]
    }
   ],
   "source": [
    "with ZipFile(path) as zipfiles:\n",
    "    \n",
    "    df_ekb_total = pd.DataFrame()\n",
    "    file_list = zipfiles.namelist() # получим список файлов в архиве  \n",
    "    \n",
    "    json_files = fnmatch.filter(file_list, \"flat_ds1*.json\") # отбирем только файлы с квартирами\n",
    "    n = len(json_files)//100 + 1 \n",
    "    df = pd.DataFrame()\n",
    "\n",
    "    for i in tqdm(range(n+1)):\n",
    "        \n",
    "        for json_file in json_files[i*n: (i+1)*n]:    \n",
    "   \n",
    "            data = pd.read_json(zipfiles.open(json_file))\n",
    "    \n",
    "            # столбцы 'purpose', 'cadCost', 'address' содержат json, поэтому разобьём их на колонки\n",
    "            data_purpose = pd.json_normalize(data['purpose'])\n",
    "            data_cost = pd.json_normalize(data['cadCost'])\n",
    "            data_address = pd.json_normalize(data['address'])\n",
    "            data = data.drop(columns=['purpose', 'cadCost', 'address'])\n",
    "            data = pd.concat([data, data_purpose, data_cost, data_address],axis=1)\n",
    "            \n",
    "            data = data[(data['city']=='Екатеринбург')|(data['locality']=='Екатеринбург')]\n",
    "            df_ekb_total = pd.concat([df_ekb_total, data],axis=0, ignore_index=True)"
   ]
  },
  {
   "cell_type": "code",
   "execution_count": 8,
   "metadata": {},
   "outputs": [],
   "source": [
    "df_ekb_total.to_csv('D:\\\\4. Программы\\\\price_66\\\\ekb.csv', index=False)"
   ]
  },
  {
   "cell_type": "code",
   "execution_count": 9,
   "metadata": {},
   "outputs": [
    {
     "name": "stdout",
     "output_type": "stream",
     "text": [
      "<class 'pandas.core.frame.DataFrame'>\n",
      "RangeIndex: 298012 entries, 0 to 298011\n",
      "Data columns (total 23 columns):\n",
      " #   Column             Non-Null Count   Dtype  \n",
      "---  ------             --------------   -----  \n",
      " 0   cadBlockNum        298012 non-null  object \n",
      " 1   type               298012 non-null  object \n",
      " 2   status             298012 non-null  int64  \n",
      " 3   objKind            298012 non-null  int64  \n",
      " 4   area               298012 non-null  float64\n",
      " 5   code               297316 non-null  object \n",
      " 6   text               298010 non-null  object \n",
      " 7   costValue          298012 non-null  float64\n",
      " 8   upks               298012 non-null  float64\n",
      " 9   registrationDate   298012 non-null  object \n",
      " 10  determinationDate  298012 non-null  object \n",
      " 11  regionCode         298012 non-null  object \n",
      " 12  region             298012 non-null  object \n",
      " 13  city               298012 non-null  object \n",
      " 14  cityType           298012 non-null  object \n",
      " 15  street             296128 non-null  object \n",
      " 16  streetType         296128 non-null  object \n",
      " 17  locality           5084 non-null    object \n",
      " 18  localityType       5084 non-null    object \n",
      " 19  district           2 non-null       object \n",
      " 20  districtType       2 non-null       object \n",
      " 21  urbanDistrict      203 non-null     object \n",
      " 22  urbanType          0 non-null       object \n",
      "dtypes: float64(3), int64(2), object(18)\n",
      "memory usage: 52.3+ MB\n"
     ]
    }
   ],
   "source": [
    "df_ekb_total.info()"
   ]
  },
  {
   "cell_type": "code",
   "execution_count": 10,
   "metadata": {
    "scrolled": true
   },
   "outputs": [
    {
     "data": {
      "text/html": [
       "<div>\n",
       "<style scoped>\n",
       "    .dataframe tbody tr th:only-of-type {\n",
       "        vertical-align: middle;\n",
       "    }\n",
       "\n",
       "    .dataframe tbody tr th {\n",
       "        vertical-align: top;\n",
       "    }\n",
       "\n",
       "    .dataframe thead th {\n",
       "        text-align: right;\n",
       "    }\n",
       "</style>\n",
       "<table border=\"1\" class=\"dataframe\">\n",
       "  <thead>\n",
       "    <tr style=\"text-align: right;\">\n",
       "      <th></th>\n",
       "      <th>cadBlockNum</th>\n",
       "      <th>type</th>\n",
       "      <th>status</th>\n",
       "      <th>objKind</th>\n",
       "      <th>area</th>\n",
       "      <th>code</th>\n",
       "      <th>text</th>\n",
       "      <th>costValue</th>\n",
       "      <th>upks</th>\n",
       "      <th>registrationDate</th>\n",
       "      <th>determinationDate</th>\n",
       "      <th>regionCode</th>\n",
       "      <th>region</th>\n",
       "      <th>city</th>\n",
       "      <th>cityType</th>\n",
       "      <th>street</th>\n",
       "      <th>streetType</th>\n",
       "      <th>locality</th>\n",
       "      <th>localityType</th>\n",
       "      <th>district</th>\n",
       "      <th>districtType</th>\n",
       "      <th>urbanDistrict</th>\n",
       "      <th>urbanType</th>\n",
       "    </tr>\n",
       "  </thead>\n",
       "  <tbody>\n",
       "    <tr>\n",
       "      <th>0</th>\n",
       "      <td>66:41:0502074</td>\n",
       "      <td>flat</td>\n",
       "      <td>1</td>\n",
       "      <td>2001003000</td>\n",
       "      <td>37.3</td>\n",
       "      <td>206002000000</td>\n",
       "      <td>жилое помещение</td>\n",
       "      <td>2813133.30</td>\n",
       "      <td>75419.12</td>\n",
       "      <td>2020-01-09</td>\n",
       "      <td>2019-01-01</td>\n",
       "      <td>66</td>\n",
       "      <td>Свердловская область</td>\n",
       "      <td>Екатеринбург</td>\n",
       "      <td>г</td>\n",
       "      <td>Павлодарская</td>\n",
       "      <td>ул</td>\n",
       "      <td>NaN</td>\n",
       "      <td>NaN</td>\n",
       "      <td>NaN</td>\n",
       "      <td>NaN</td>\n",
       "      <td>NaN</td>\n",
       "      <td>NaN</td>\n",
       "    </tr>\n",
       "    <tr>\n",
       "      <th>1</th>\n",
       "      <td>66:41:0704008</td>\n",
       "      <td>flat</td>\n",
       "      <td>1</td>\n",
       "      <td>2001003000</td>\n",
       "      <td>39.4</td>\n",
       "      <td>206002000000</td>\n",
       "      <td>жилое помещение</td>\n",
       "      <td>3346813.65</td>\n",
       "      <td>84944.50</td>\n",
       "      <td>2020-01-11</td>\n",
       "      <td>2019-01-01</td>\n",
       "      <td>66</td>\n",
       "      <td>Свердловская область</td>\n",
       "      <td>Екатеринбург</td>\n",
       "      <td>г</td>\n",
       "      <td>Блюхера</td>\n",
       "      <td>ул</td>\n",
       "      <td>NaN</td>\n",
       "      <td>NaN</td>\n",
       "      <td>NaN</td>\n",
       "      <td>NaN</td>\n",
       "      <td>NaN</td>\n",
       "      <td>NaN</td>\n",
       "    </tr>\n",
       "    <tr>\n",
       "      <th>2</th>\n",
       "      <td>66:41:0509048</td>\n",
       "      <td>flat</td>\n",
       "      <td>1</td>\n",
       "      <td>2001003000</td>\n",
       "      <td>47.3</td>\n",
       "      <td>206002000000</td>\n",
       "      <td>жилое помещение</td>\n",
       "      <td>2806336.44</td>\n",
       "      <td>59330.58</td>\n",
       "      <td>2020-01-12</td>\n",
       "      <td>2019-01-01</td>\n",
       "      <td>66</td>\n",
       "      <td>Свердловская область</td>\n",
       "      <td>Екатеринбург</td>\n",
       "      <td>г</td>\n",
       "      <td>Черняховского</td>\n",
       "      <td>ул</td>\n",
       "      <td>NaN</td>\n",
       "      <td>NaN</td>\n",
       "      <td>NaN</td>\n",
       "      <td>NaN</td>\n",
       "      <td>NaN</td>\n",
       "      <td>NaN</td>\n",
       "    </tr>\n",
       "  </tbody>\n",
       "</table>\n",
       "</div>"
      ],
      "text/plain": [
       "     cadBlockNum  type  status     objKind  area          code  \\\n",
       "0  66:41:0502074  flat       1  2001003000  37.3  206002000000   \n",
       "1  66:41:0704008  flat       1  2001003000  39.4  206002000000   \n",
       "2  66:41:0509048  flat       1  2001003000  47.3  206002000000   \n",
       "\n",
       "              text   costValue      upks registrationDate determinationDate  \\\n",
       "0  жилое помещение  2813133.30  75419.12       2020-01-09        2019-01-01   \n",
       "1  жилое помещение  3346813.65  84944.50       2020-01-11        2019-01-01   \n",
       "2  жилое помещение  2806336.44  59330.58       2020-01-12        2019-01-01   \n",
       "\n",
       "  regionCode                region          city cityType         street  \\\n",
       "0         66  Свердловская область  Екатеринбург        г   Павлодарская   \n",
       "1         66  Свердловская область  Екатеринбург        г        Блюхера   \n",
       "2         66  Свердловская область  Екатеринбург        г  Черняховского   \n",
       "\n",
       "  streetType locality localityType district districtType urbanDistrict  \\\n",
       "0         ул      NaN          NaN      NaN          NaN           NaN   \n",
       "1         ул      NaN          NaN      NaN          NaN           NaN   \n",
       "2         ул      NaN          NaN      NaN          NaN           NaN   \n",
       "\n",
       "  urbanType  \n",
       "0       NaN  \n",
       "1       NaN  \n",
       "2       NaN  "
      ]
     },
     "execution_count": 10,
     "metadata": {},
     "output_type": "execute_result"
    }
   ],
   "source": [
    "df_ekb_total.head(3)"
   ]
  },
  {
   "cell_type": "markdown",
   "metadata": {},
   "source": [
    "Сделаем сводник по кварталам ипосчитаем основные метрики"
   ]
  },
  {
   "cell_type": "code",
   "execution_count": 15,
   "metadata": {},
   "outputs": [],
   "source": [
    "df_ekb = df_ekb_total.groupby('cadBlockNum').agg(cost_value_mean = ('costValue', 'mean'),\n",
    "                                        cost_value_median = ('costValue', 'median'),\n",
    "                                        upks_mean = ('upks', 'mean'),\n",
    "                                        upks_median = ('upks', 'median'),\n",
    "                                        area_mean = ('area', 'median'),\n",
    "                                        area_median = ('area', 'median')\n",
    "                                        ).reset_index()"
   ]
  },
  {
   "cell_type": "code",
   "execution_count": 16,
   "metadata": {},
   "outputs": [
    {
     "data": {
      "text/html": [
       "<div>\n",
       "<style scoped>\n",
       "    .dataframe tbody tr th:only-of-type {\n",
       "        vertical-align: middle;\n",
       "    }\n",
       "\n",
       "    .dataframe tbody tr th {\n",
       "        vertical-align: top;\n",
       "    }\n",
       "\n",
       "    .dataframe thead th {\n",
       "        text-align: right;\n",
       "    }\n",
       "</style>\n",
       "<table border=\"1\" class=\"dataframe\">\n",
       "  <thead>\n",
       "    <tr style=\"text-align: right;\">\n",
       "      <th></th>\n",
       "      <th>cadBlockNum</th>\n",
       "      <th>cost_value_mean</th>\n",
       "      <th>cost_value_median</th>\n",
       "      <th>upks_mean</th>\n",
       "      <th>upks_median</th>\n",
       "      <th>area_mean</th>\n",
       "      <th>area_median</th>\n",
       "    </tr>\n",
       "  </thead>\n",
       "  <tbody>\n",
       "    <tr>\n",
       "      <th>0</th>\n",
       "      <td>66:40:0101021</td>\n",
       "      <td>1.322361e+05</td>\n",
       "      <td>132236.13</td>\n",
       "      <td>5556.140000</td>\n",
       "      <td>5556.140</td>\n",
       "      <td>23.80</td>\n",
       "      <td>23.80</td>\n",
       "    </tr>\n",
       "    <tr>\n",
       "      <th>1</th>\n",
       "      <td>66:41:0000000</td>\n",
       "      <td>3.440285e+06</td>\n",
       "      <td>2684789.31</td>\n",
       "      <td>52532.467541</td>\n",
       "      <td>60346.270</td>\n",
       "      <td>39.80</td>\n",
       "      <td>39.80</td>\n",
       "    </tr>\n",
       "    <tr>\n",
       "      <th>2</th>\n",
       "      <td>66:41:0101001</td>\n",
       "      <td>1.406866e+06</td>\n",
       "      <td>1406865.90</td>\n",
       "      <td>9662.540000</td>\n",
       "      <td>9662.540</td>\n",
       "      <td>145.60</td>\n",
       "      <td>145.60</td>\n",
       "    </tr>\n",
       "    <tr>\n",
       "      <th>3</th>\n",
       "      <td>66:41:0102006</td>\n",
       "      <td>1.584646e+06</td>\n",
       "      <td>1841561.67</td>\n",
       "      <td>46385.383750</td>\n",
       "      <td>47147.475</td>\n",
       "      <td>38.15</td>\n",
       "      <td>38.15</td>\n",
       "    </tr>\n",
       "    <tr>\n",
       "      <th>4</th>\n",
       "      <td>66:41:0102009</td>\n",
       "      <td>6.218820e+05</td>\n",
       "      <td>621881.97</td>\n",
       "      <td>12412.810000</td>\n",
       "      <td>12412.810</td>\n",
       "      <td>50.10</td>\n",
       "      <td>50.10</td>\n",
       "    </tr>\n",
       "  </tbody>\n",
       "</table>\n",
       "</div>"
      ],
      "text/plain": [
       "     cadBlockNum  cost_value_mean  cost_value_median     upks_mean  \\\n",
       "0  66:40:0101021     1.322361e+05          132236.13   5556.140000   \n",
       "1  66:41:0000000     3.440285e+06         2684789.31  52532.467541   \n",
       "2  66:41:0101001     1.406866e+06         1406865.90   9662.540000   \n",
       "3  66:41:0102006     1.584646e+06         1841561.67  46385.383750   \n",
       "4  66:41:0102009     6.218820e+05          621881.97  12412.810000   \n",
       "\n",
       "   upks_median  area_mean  area_median  \n",
       "0     5556.140      23.80        23.80  \n",
       "1    60346.270      39.80        39.80  \n",
       "2     9662.540     145.60       145.60  \n",
       "3    47147.475      38.15        38.15  \n",
       "4    12412.810      50.10        50.10  "
      ]
     },
     "execution_count": 16,
     "metadata": {},
     "output_type": "execute_result"
    }
   ],
   "source": [
    "df_ekb.head()"
   ]
  },
  {
   "cell_type": "markdown",
   "metadata": {},
   "source": [
    "Для номеров кадастровых кварталов вычислим координаты с помощью функции rosreestr2coord.Area (https://github.com/rendrom/rosreestr2coord) и перобразуем их в полигоны"
   ]
  },
  {
   "cell_type": "code",
   "execution_count": 17,
   "metadata": {},
   "outputs": [],
   "source": [
    "kvartal_list = df_ekb.cadBlockNum.to_list()"
   ]
  },
  {
   "cell_type": "code",
   "execution_count": 18,
   "metadata": {
    "scrolled": true
   },
   "outputs": [
    {
     "data": {
      "application/vnd.jupyter.widget-view+json": {
       "model_id": "",
       "version_major": 2,
       "version_minor": 0
      },
      "text/plain": [
       "HBox(children=(HTML(value=''), FloatProgress(value=0.0, max=1179.0), HTML(value='')))"
      ]
     },
     "metadata": {},
     "output_type": "display_data"
    },
    {
     "name": "stdout",
     "output_type": "stream",
     "text": [
      "\n"
     ]
    }
   ],
   "source": [
    "area_koord_list = []\n",
    "for kvartal in tqdm(kvartal_list):\n",
    "    area = Area(code=kvartal, area_type=2, with_log=False, with_proxy=True)\n",
    "    area_koord = area.get_coord()\n",
    "    area_koord_list.append(area_koord)"
   ]
  },
  {
   "cell_type": "code",
   "execution_count": 19,
   "metadata": {},
   "outputs": [],
   "source": [
    "df_ekb['kvartal'] = area_koord_list"
   ]
  },
  {
   "cell_type": "code",
   "execution_count": 20,
   "metadata": {},
   "outputs": [],
   "source": [
    "df_ekb['kvartal'] = df_ekb['kvartal'].apply(lambda x: x[0][0])"
   ]
  },
  {
   "cell_type": "code",
   "execution_count": 21,
   "metadata": {},
   "outputs": [],
   "source": [
    "# оставим в датафрейме строки в которых количество координатных пар в колонке kvartal больше двух\n",
    "df_ekb = df_ekb[df_ekb['kvartal'].apply(lambda x: len(x)>2)]"
   ]
  },
  {
   "cell_type": "code",
   "execution_count": 22,
   "metadata": {
    "scrolled": true
   },
   "outputs": [],
   "source": [
    "df_ekb['kvartal'] = df_ekb['kvartal'].apply(lambda x: Polygon(x)) "
   ]
  },
  {
   "cell_type": "markdown",
   "metadata": {},
   "source": [
    "Сохраним на комп полученную таблицу в формате .csv и построим по ней в Tableau дашборд"
   ]
  },
  {
   "cell_type": "code",
   "execution_count": 23,
   "metadata": {},
   "outputs": [],
   "source": [
    "df_ekb.to_csv('D:\\\\4. Программы\\\\price_66\\\\ekb.csv', index=False)"
   ]
  }
 ],
 "metadata": {
  "kernelspec": {
   "display_name": "Python 3",
   "language": "python",
   "name": "python3"
  },
  "language_info": {
   "codemirror_mode": {
    "name": "ipython",
    "version": 3
   },
   "file_extension": ".py",
   "mimetype": "text/x-python",
   "name": "python",
   "nbconvert_exporter": "python",
   "pygments_lexer": "ipython3",
   "version": "3.8.5"
  }
 },
 "nbformat": 4,
 "nbformat_minor": 4
}
